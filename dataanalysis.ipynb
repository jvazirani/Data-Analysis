{
 "cells": [
  {
   "cell_type": "markdown",
   "metadata": {},
   "source": [
    "# Tourist Attractions in India"
   ]
  },
  {
   "cell_type": "code",
   "execution_count": null,
   "metadata": {},
   "outputs": [],
   "source": [
    "# Written by Jaya Vazirani and ChatGPT"
   ]
  },
  {
   "cell_type": "markdown",
   "metadata": {},
   "source": [
    "## 1. Import Libraries"
   ]
  },
  {
   "cell_type": "code",
   "execution_count": 146,
   "metadata": {},
   "outputs": [],
   "source": [
    "import pandas as pd\n",
    "import matplotlib.pyplot as plt\n",
    "import seaborn as sns"
   ]
  },
  {
   "cell_type": "markdown",
   "metadata": {},
   "source": [
    "## 2. Data Exploration"
   ]
  },
  {
   "cell_type": "code",
   "execution_count": 147,
   "metadata": {},
   "outputs": [],
   "source": [
    "df = pd.read_csv(\"visit.csv\")"
   ]
  },
  {
   "cell_type": "code",
   "execution_count": 148,
   "metadata": {},
   "outputs": [
    {
     "name": "stdout",
     "output_type": "stream",
     "text": [
      "<class 'pandas.core.frame.DataFrame'>\n",
      "RangeIndex: 325 entries, 0 to 324\n",
      "Data columns (total 16 columns):\n",
      " #   Column                            Non-Null Count  Dtype  \n",
      "---  ------                            --------------  -----  \n",
      " 0   Unnamed: 0                        325 non-null    int64  \n",
      " 1   Zone                              325 non-null    object \n",
      " 2   State                             325 non-null    object \n",
      " 3   City                              325 non-null    object \n",
      " 4   Name                              325 non-null    object \n",
      " 5   Type                              325 non-null    object \n",
      " 6   Establishment Year                325 non-null    object \n",
      " 7   time needed to visit in hrs       325 non-null    float64\n",
      " 8   Google review rating              325 non-null    float64\n",
      " 9   Entrance Fee in INR               325 non-null    int64  \n",
      " 10  Airport with 50km Radius          325 non-null    object \n",
      " 11  Weekly Off                        32 non-null     object \n",
      " 12  Significance                      325 non-null    object \n",
      " 13  DSLR Allowed                      325 non-null    object \n",
      " 14  Number of google review in lakhs  325 non-null    float64\n",
      " 15  Best Time to visit                325 non-null    object \n",
      "dtypes: float64(3), int64(2), object(11)\n",
      "memory usage: 40.8+ KB\n"
     ]
    },
    {
     "data": {
      "text/plain": [
       "Index(['Unnamed: 0', 'Zone', 'State', 'City', 'Name', 'Type',\n",
       "       'Establishment Year', 'time needed to visit in hrs',\n",
       "       'Google review rating', 'Entrance Fee in INR',\n",
       "       'Airport with 50km Radius', 'Weekly Off', 'Significance',\n",
       "       'DSLR Allowed', 'Number of google review in lakhs',\n",
       "       'Best Time to visit'],\n",
       "      dtype='object')"
      ]
     },
     "execution_count": 148,
     "metadata": {},
     "output_type": "execute_result"
    }
   ],
   "source": [
    "df.info()\n",
    "df.columns"
   ]
  },
  {
   "cell_type": "code",
   "execution_count": 149,
   "metadata": {},
   "outputs": [
    {
     "data": {
      "text/html": [
       "<div>\n",
       "<style scoped>\n",
       "    .dataframe tbody tr th:only-of-type {\n",
       "        vertical-align: middle;\n",
       "    }\n",
       "\n",
       "    .dataframe tbody tr th {\n",
       "        vertical-align: top;\n",
       "    }\n",
       "\n",
       "    .dataframe thead th {\n",
       "        text-align: right;\n",
       "    }\n",
       "</style>\n",
       "<table border=\"1\" class=\"dataframe\">\n",
       "  <thead>\n",
       "    <tr style=\"text-align: right;\">\n",
       "      <th></th>\n",
       "      <th>Unnamed: 0</th>\n",
       "      <th>Zone</th>\n",
       "      <th>State</th>\n",
       "      <th>City</th>\n",
       "      <th>Name</th>\n",
       "      <th>Type</th>\n",
       "      <th>Establishment Year</th>\n",
       "      <th>time needed to visit in hrs</th>\n",
       "      <th>Google review rating</th>\n",
       "      <th>Entrance Fee in INR</th>\n",
       "      <th>Airport with 50km Radius</th>\n",
       "      <th>Weekly Off</th>\n",
       "      <th>Significance</th>\n",
       "      <th>DSLR Allowed</th>\n",
       "      <th>Number of google review in lakhs</th>\n",
       "      <th>Best Time to visit</th>\n",
       "    </tr>\n",
       "  </thead>\n",
       "  <tbody>\n",
       "    <tr>\n",
       "      <th>0</th>\n",
       "      <td>0</td>\n",
       "      <td>Northern</td>\n",
       "      <td>Delhi</td>\n",
       "      <td>Delhi</td>\n",
       "      <td>India Gate</td>\n",
       "      <td>War Memorial</td>\n",
       "      <td>1921</td>\n",
       "      <td>0.5</td>\n",
       "      <td>4.6</td>\n",
       "      <td>0</td>\n",
       "      <td>Yes</td>\n",
       "      <td>NaN</td>\n",
       "      <td>Historical</td>\n",
       "      <td>Yes</td>\n",
       "      <td>2.60</td>\n",
       "      <td>Evening</td>\n",
       "    </tr>\n",
       "    <tr>\n",
       "      <th>1</th>\n",
       "      <td>1</td>\n",
       "      <td>Northern</td>\n",
       "      <td>Delhi</td>\n",
       "      <td>Delhi</td>\n",
       "      <td>Humayun's Tomb</td>\n",
       "      <td>Tomb</td>\n",
       "      <td>1572</td>\n",
       "      <td>2.0</td>\n",
       "      <td>4.5</td>\n",
       "      <td>30</td>\n",
       "      <td>Yes</td>\n",
       "      <td>NaN</td>\n",
       "      <td>Historical</td>\n",
       "      <td>Yes</td>\n",
       "      <td>0.40</td>\n",
       "      <td>Afternoon</td>\n",
       "    </tr>\n",
       "    <tr>\n",
       "      <th>2</th>\n",
       "      <td>2</td>\n",
       "      <td>Northern</td>\n",
       "      <td>Delhi</td>\n",
       "      <td>Delhi</td>\n",
       "      <td>Akshardham Temple</td>\n",
       "      <td>Temple</td>\n",
       "      <td>2005</td>\n",
       "      <td>5.0</td>\n",
       "      <td>4.6</td>\n",
       "      <td>60</td>\n",
       "      <td>Yes</td>\n",
       "      <td>NaN</td>\n",
       "      <td>Religious</td>\n",
       "      <td>No</td>\n",
       "      <td>0.40</td>\n",
       "      <td>Afternoon</td>\n",
       "    </tr>\n",
       "    <tr>\n",
       "      <th>3</th>\n",
       "      <td>3</td>\n",
       "      <td>Northern</td>\n",
       "      <td>Delhi</td>\n",
       "      <td>Delhi</td>\n",
       "      <td>Waste to Wonder Park</td>\n",
       "      <td>Theme Park</td>\n",
       "      <td>2019</td>\n",
       "      <td>2.0</td>\n",
       "      <td>4.1</td>\n",
       "      <td>50</td>\n",
       "      <td>Yes</td>\n",
       "      <td>Monday</td>\n",
       "      <td>Environmental</td>\n",
       "      <td>Yes</td>\n",
       "      <td>0.27</td>\n",
       "      <td>Evening</td>\n",
       "    </tr>\n",
       "    <tr>\n",
       "      <th>4</th>\n",
       "      <td>4</td>\n",
       "      <td>Northern</td>\n",
       "      <td>Delhi</td>\n",
       "      <td>Delhi</td>\n",
       "      <td>Jantar Mantar</td>\n",
       "      <td>Observatory</td>\n",
       "      <td>1724</td>\n",
       "      <td>2.0</td>\n",
       "      <td>4.2</td>\n",
       "      <td>15</td>\n",
       "      <td>Yes</td>\n",
       "      <td>NaN</td>\n",
       "      <td>Scientific</td>\n",
       "      <td>Yes</td>\n",
       "      <td>0.31</td>\n",
       "      <td>Morning</td>\n",
       "    </tr>\n",
       "    <tr>\n",
       "      <th>5</th>\n",
       "      <td>5</td>\n",
       "      <td>Northern</td>\n",
       "      <td>Delhi</td>\n",
       "      <td>Delhi</td>\n",
       "      <td>Chandni Chowk</td>\n",
       "      <td>Market</td>\n",
       "      <td>1700</td>\n",
       "      <td>3.0</td>\n",
       "      <td>4.2</td>\n",
       "      <td>0</td>\n",
       "      <td>Yes</td>\n",
       "      <td>Sunday</td>\n",
       "      <td>Market</td>\n",
       "      <td>Yes</td>\n",
       "      <td>0.25</td>\n",
       "      <td>Afternoon</td>\n",
       "    </tr>\n",
       "    <tr>\n",
       "      <th>6</th>\n",
       "      <td>6</td>\n",
       "      <td>Northern</td>\n",
       "      <td>Delhi</td>\n",
       "      <td>Delhi</td>\n",
       "      <td>Lotus Temple</td>\n",
       "      <td>Temple</td>\n",
       "      <td>1986</td>\n",
       "      <td>1.0</td>\n",
       "      <td>4.5</td>\n",
       "      <td>0</td>\n",
       "      <td>Yes</td>\n",
       "      <td>Monday</td>\n",
       "      <td>Religious</td>\n",
       "      <td>Yes</td>\n",
       "      <td>0.59</td>\n",
       "      <td>Evening</td>\n",
       "    </tr>\n",
       "    <tr>\n",
       "      <th>7</th>\n",
       "      <td>7</td>\n",
       "      <td>Northern</td>\n",
       "      <td>Delhi</td>\n",
       "      <td>Delhi</td>\n",
       "      <td>Red Fort</td>\n",
       "      <td>Fort</td>\n",
       "      <td>1648</td>\n",
       "      <td>2.0</td>\n",
       "      <td>4.5</td>\n",
       "      <td>35</td>\n",
       "      <td>Yes</td>\n",
       "      <td>NaN</td>\n",
       "      <td>Historical</td>\n",
       "      <td>Yes</td>\n",
       "      <td>1.50</td>\n",
       "      <td>Afternoon</td>\n",
       "    </tr>\n",
       "    <tr>\n",
       "      <th>8</th>\n",
       "      <td>8</td>\n",
       "      <td>Northern</td>\n",
       "      <td>Delhi</td>\n",
       "      <td>Delhi</td>\n",
       "      <td>Agrasen ki Baoli</td>\n",
       "      <td>Stepwell</td>\n",
       "      <td>1400</td>\n",
       "      <td>1.0</td>\n",
       "      <td>4.2</td>\n",
       "      <td>0</td>\n",
       "      <td>Yes</td>\n",
       "      <td>NaN</td>\n",
       "      <td>Historical</td>\n",
       "      <td>Yes</td>\n",
       "      <td>0.41</td>\n",
       "      <td>Afternoon</td>\n",
       "    </tr>\n",
       "    <tr>\n",
       "      <th>9</th>\n",
       "      <td>9</td>\n",
       "      <td>Northern</td>\n",
       "      <td>Delhi</td>\n",
       "      <td>Delhi</td>\n",
       "      <td>Sunder Nursery</td>\n",
       "      <td>Park</td>\n",
       "      <td>1600</td>\n",
       "      <td>2.0</td>\n",
       "      <td>4.6</td>\n",
       "      <td>0</td>\n",
       "      <td>Yes</td>\n",
       "      <td>NaN</td>\n",
       "      <td>Botanical</td>\n",
       "      <td>Yes</td>\n",
       "      <td>0.16</td>\n",
       "      <td>Afternoon</td>\n",
       "    </tr>\n",
       "  </tbody>\n",
       "</table>\n",
       "</div>"
      ],
      "text/plain": [
       "   Unnamed: 0      Zone  State   City                  Name          Type  \\\n",
       "0           0  Northern  Delhi  Delhi            India Gate  War Memorial   \n",
       "1           1  Northern  Delhi  Delhi        Humayun's Tomb          Tomb   \n",
       "2           2  Northern  Delhi  Delhi     Akshardham Temple        Temple   \n",
       "3           3  Northern  Delhi  Delhi  Waste to Wonder Park    Theme Park   \n",
       "4           4  Northern  Delhi  Delhi         Jantar Mantar   Observatory   \n",
       "5           5  Northern  Delhi  Delhi         Chandni Chowk        Market   \n",
       "6           6  Northern  Delhi  Delhi          Lotus Temple        Temple   \n",
       "7           7  Northern  Delhi  Delhi              Red Fort          Fort   \n",
       "8           8  Northern  Delhi  Delhi      Agrasen ki Baoli      Stepwell   \n",
       "9           9  Northern  Delhi  Delhi        Sunder Nursery          Park   \n",
       "\n",
       "  Establishment Year  time needed to visit in hrs  Google review rating  \\\n",
       "0               1921                          0.5                   4.6   \n",
       "1               1572                          2.0                   4.5   \n",
       "2               2005                          5.0                   4.6   \n",
       "3               2019                          2.0                   4.1   \n",
       "4               1724                          2.0                   4.2   \n",
       "5               1700                          3.0                   4.2   \n",
       "6               1986                          1.0                   4.5   \n",
       "7               1648                          2.0                   4.5   \n",
       "8               1400                          1.0                   4.2   \n",
       "9               1600                          2.0                   4.6   \n",
       "\n",
       "   Entrance Fee in INR Airport with 50km Radius Weekly Off   Significance  \\\n",
       "0                    0                      Yes        NaN     Historical   \n",
       "1                   30                      Yes        NaN     Historical   \n",
       "2                   60                      Yes        NaN      Religious   \n",
       "3                   50                      Yes     Monday  Environmental   \n",
       "4                   15                      Yes        NaN     Scientific   \n",
       "5                    0                      Yes     Sunday         Market   \n",
       "6                    0                      Yes     Monday      Religious   \n",
       "7                   35                      Yes        NaN     Historical   \n",
       "8                    0                      Yes        NaN     Historical   \n",
       "9                    0                      Yes        NaN      Botanical   \n",
       "\n",
       "  DSLR Allowed  Number of google review in lakhs Best Time to visit  \n",
       "0          Yes                              2.60            Evening  \n",
       "1          Yes                              0.40          Afternoon  \n",
       "2           No                              0.40          Afternoon  \n",
       "3          Yes                              0.27            Evening  \n",
       "4          Yes                              0.31            Morning  \n",
       "5          Yes                              0.25          Afternoon  \n",
       "6          Yes                              0.59            Evening  \n",
       "7          Yes                              1.50          Afternoon  \n",
       "8          Yes                              0.41          Afternoon  \n",
       "9          Yes                              0.16          Afternoon  "
      ]
     },
     "execution_count": 149,
     "metadata": {},
     "output_type": "execute_result"
    }
   ],
   "source": [
    "df.head(10)"
   ]
  },
  {
   "cell_type": "markdown",
   "metadata": {},
   "source": [
    "## 3. Data Cleaning"
   ]
  },
  {
   "cell_type": "code",
   "execution_count": 150,
   "metadata": {},
   "outputs": [
    {
     "data": {
      "text/plain": [
       "Index(['Unnamed: 0', 'Zone', 'State', 'City', 'Name', 'Type',\n",
       "       'Establishment Year', 'time needed to visit in hrs',\n",
       "       'Google review rating', 'Entrance Fee in INR',\n",
       "       'Airport with 50km Radius', 'Weekly Off', 'Significance',\n",
       "       'DSLR Allowed', 'Number of google review in lakhs',\n",
       "       'Best Time to visit'],\n",
       "      dtype='object')"
      ]
     },
     "execution_count": 150,
     "metadata": {},
     "output_type": "execute_result"
    }
   ],
   "source": [
    "df.columns"
   ]
  },
  {
   "cell_type": "markdown",
   "metadata": {},
   "source": [
    "### Check for Null values"
   ]
  },
  {
   "cell_type": "code",
   "execution_count": 151,
   "metadata": {},
   "outputs": [
    {
     "data": {
      "text/plain": [
       "Unnamed: 0                          0.000000\n",
       "Zone                                0.000000\n",
       "State                               0.000000\n",
       "City                                0.000000\n",
       "Name                                0.000000\n",
       "Type                                0.000000\n",
       "Establishment Year                  0.000000\n",
       "time needed to visit in hrs         0.000000\n",
       "Google review rating                0.000000\n",
       "Entrance Fee in INR                 0.000000\n",
       "Airport with 50km Radius            0.000000\n",
       "Weekly Off                          0.901538\n",
       "Significance                        0.000000\n",
       "DSLR Allowed                        0.000000\n",
       "Number of google review in lakhs    0.000000\n",
       "Best Time to visit                  0.000000\n",
       "dtype: float64"
      ]
     },
     "execution_count": 151,
     "metadata": {},
     "output_type": "execute_result"
    }
   ],
   "source": [
    "df.isna().sum() / df.shape[0]"
   ]
  },
  {
   "cell_type": "markdown",
   "metadata": {},
   "source": [
    "### Check for duplicates"
   ]
  },
  {
   "cell_type": "code",
   "execution_count": 152,
   "metadata": {},
   "outputs": [
    {
     "data": {
      "text/plain": [
       "0"
      ]
     },
     "execution_count": 152,
     "metadata": {},
     "output_type": "execute_result"
    }
   ],
   "source": [
    "df.duplicated().sum()"
   ]
  },
  {
   "cell_type": "markdown",
   "metadata": {},
   "source": [
    "### Drop unecessary columns "
   ]
  },
  {
   "cell_type": "code",
   "execution_count": 153,
   "metadata": {},
   "outputs": [
    {
     "data": {
      "text/plain": [
       "(325, 11)"
      ]
     },
     "execution_count": 153,
     "metadata": {},
     "output_type": "execute_result"
    }
   ],
   "source": [
    "# Only keep columns we want\n",
    "df = df [['Zone', 'State', 'Name',\n",
    "       'Establishment Year', 'time needed to visit in hrs',\n",
    "       'Google review rating', 'Entrance Fee in INR',\n",
    "       'Airport with 50km Radius', 'Significance',\n",
    "       'DSLR Allowed',\n",
    "       'Best Time to visit']]\n",
    "\n",
    "df.shape"
   ]
  },
  {
   "cell_type": "code",
   "execution_count": 154,
   "metadata": {},
   "outputs": [],
   "source": [
    "# Rename our columns for consistency\n",
    "df = df.rename(columns={'Establishment Year':'Establishment_Year',\n",
    "                   'time needed to visit in hrs':'Time_Needed',\n",
    "                   'Google review rating': 'Rating',\n",
    "                   'Entrance Fee in INR':'Entrance_Fee',\n",
    "                   'Airport with 50km Radius':'Airport_Nearby',\n",
    "                   'DSLR Allowed':'Camera',\n",
    "                   'Best Time to visit':'Best_Time'})"
   ]
  },
  {
   "cell_type": "markdown",
   "metadata": {},
   "source": [
    "### String formatting and categorization "
   ]
  },
  {
   "cell_type": "code",
   "execution_count": 155,
   "metadata": {},
   "outputs": [
    {
     "data": {
      "text/plain": [
       "Establishment_Year\n",
       "Unknown         111\n",
       "1950              5\n",
       "1600              4\n",
       "2013              4\n",
       "12th century      4\n",
       "               ... \n",
       "1799              1\n",
       "2002              1\n",
       "1451              1\n",
       "2018              1\n",
       "1727              1\n",
       "Name: count, Length: 162, dtype: int64"
      ]
     },
     "execution_count": 155,
     "metadata": {},
     "output_type": "execute_result"
    }
   ],
   "source": [
    "df[\"Establishment_Year\"].value_counts()\n",
    "# map first two characters to 1900 1800 etc"
   ]
  },
  {
   "cell_type": "code",
   "execution_count": 156,
   "metadata": {},
   "outputs": [
    {
     "data": {
      "text/plain": [
       "Zone\n",
       "Southern         98\n",
       "Northern         89\n",
       "Eastern          45\n",
       "Western          40\n",
       "Central          39\n",
       "North Eastern    14\n",
       "Name: count, dtype: int64"
      ]
     },
     "execution_count": 156,
     "metadata": {},
     "output_type": "execute_result"
    }
   ],
   "source": [
    "df[\"Zone\"].value_counts()"
   ]
  },
  {
   "cell_type": "code",
   "execution_count": 157,
   "metadata": {},
   "outputs": [
    {
     "data": {
      "text/plain": [
       "Significance\n",
       "Historical            78\n",
       "Religious             75\n",
       "Nature                47\n",
       "Recreational          30\n",
       "Wildlife              29\n",
       "Cultural              13\n",
       "Scenic                10\n",
       "Shopping               7\n",
       "Entertainment          5\n",
       "Adventure              5\n",
       "Architectural          4\n",
       "Botanical              3\n",
       "Environmental          2\n",
       "Natural Wonder         2\n",
       "Artistic               2\n",
       "Educational            2\n",
       "Sports                 2\n",
       "Scientific             2\n",
       "Spiritual              1\n",
       "Archaeological         1\n",
       "Agricultural           1\n",
       "Engineering Marvel     1\n",
       "Market                 1\n",
       "Trekking               1\n",
       "Food                   1\n",
       "Name: count, dtype: int64"
      ]
     },
     "execution_count": 157,
     "metadata": {},
     "output_type": "execute_result"
    }
   ],
   "source": [
    "df[\"Significance\"].value_counts()"
   ]
  },
  {
   "cell_type": "code",
   "execution_count": 158,
   "metadata": {},
   "outputs": [
    {
     "data": {
      "text/plain": [
       "Significance\n",
       "Nature          93\n",
       "Religious       89\n",
       "Historical      83\n",
       "Recreational    38\n",
       "Other           22\n",
       "Name: count, dtype: int64"
      ]
     },
     "execution_count": 158,
     "metadata": {},
     "output_type": "execute_result"
    }
   ],
   "source": [
    "significance_dt = {\"Other\": [\"Shopping\", \"Entertainment\", \"Artistic\", \"Educational\", \"Scientific\", \"Agricultural\",\n",
    "                       \"Engineering Marvel\", \"Market\", \"Food\"],\n",
    "             \"Historical\": [\"Historical\", \"Architectural\", \"Archaeological\"],\n",
    "             \"Religious\": [\"Religious\", \"Spiritual\", \"Cultural\"],\n",
    "             \"Nature\": [\"Nature\", \"Wildlife\", \"Scenic\", \"Environmental\", \"Natural Wonder\", \"Botanical\"],\n",
    "             \"Recreational\": [\"Recreational\", \"Trekking\", \"Sports\", \"Adventure\"]}\n",
    "\n",
    "def organize_significance(word):\n",
    "    for key in significance_dt:\n",
    "        if word in significance_dt[key]:\n",
    "            return key\n",
    "    return word\n",
    "\n",
    "df[\"Significance\"] = df[\"Significance\"].map(organize_significance)\n",
    "df[\"Significance\"].value_counts()"
   ]
  },
  {
   "cell_type": "code",
   "execution_count": 159,
   "metadata": {},
   "outputs": [
    {
     "data": {
      "text/plain": [
       "Airport_Nearby\n",
       "Yes    227\n",
       "No      98\n",
       "Name: count, dtype: int64"
      ]
     },
     "execution_count": 159,
     "metadata": {},
     "output_type": "execute_result"
    }
   ],
   "source": [
    "df[\"Airport_Nearby\"].value_counts()"
   ]
  },
  {
   "cell_type": "markdown",
   "metadata": {},
   "source": [
    "#### Best Time categorization "
   ]
  },
  {
   "cell_type": "code",
   "execution_count": 160,
   "metadata": {},
   "outputs": [
    {
     "data": {
      "text/plain": [
       "Best_Time\n",
       "All          164\n",
       "Morning       88\n",
       "Afternoon     44\n",
       "Evening       26\n",
       "All            1\n",
       "Anytime        1\n",
       "Night          1\n",
       "Name: count, dtype: int64"
      ]
     },
     "execution_count": 160,
     "metadata": {},
     "output_type": "execute_result"
    }
   ],
   "source": [
    "df[\"Best_Time\"].value_counts()"
   ]
  },
  {
   "cell_type": "code",
   "execution_count": 161,
   "metadata": {},
   "outputs": [
    {
     "data": {
      "text/plain": [
       "Best_Time\n",
       "All          166\n",
       "Morning       88\n",
       "Afternoon     44\n",
       "Evening       27\n",
       "Name: count, dtype: int64"
      ]
     },
     "execution_count": 161,
     "metadata": {},
     "output_type": "execute_result"
    }
   ],
   "source": [
    "# Possible times: all, morning, afternoon, evening \n",
    "status_dt = {\"All\": [\"All\", \"Anytime\", \"All\"],\n",
    "             \"Evening\": [\"Night\", \"Evening\"]}\n",
    "\n",
    "def organize_status(word):\n",
    "    for key in status_dt:\n",
    "        if word in status_dt[key]:\n",
    "            return key\n",
    "    return word.strip()\n",
    "\n",
    "df[\"Best_Time\"] = df[\"Best_Time\"].map(organize_status)\n",
    "df[\"Best_Time\"].value_counts()"
   ]
  },
  {
   "cell_type": "markdown",
   "metadata": {},
   "source": [
    "## 4. Univariate "
   ]
  },
  {
   "cell_type": "markdown",
   "metadata": {},
   "source": [
    "### Numerical Data"
   ]
  },
  {
   "cell_type": "code",
   "execution_count": 163,
   "metadata": {},
   "outputs": [
    {
     "data": {
      "text/plain": [
       "3.5000000000000004"
      ]
     },
     "execution_count": 163,
     "metadata": {},
     "output_type": "execute_result"
    }
   ],
   "source": [
    "# When performing EDA on individual columns of data, thinking through the following acronym\n",
    "#can give you a better understanding of the data (CSOCS):\n",
    "#● Context - what data are we looking at\n",
    "#● Shape - how is your data distributed (boxplots, histograms)\n",
    "#● Outliers\n",
    "#● Center - mean, median, mode?\n",
    "#● Spread - Range, IQR, Standard Deviation\n",
    "\n",
    "# Rating\n",
    "average = df[\"Rating\"].mean()\n",
    "mode = df[\"Rating\"].max() - df[\"Rating\"].min()"
   ]
  },
  {
   "cell_type": "code",
   "execution_count": 164,
   "metadata": {},
   "outputs": [
    {
     "data": {
      "text/plain": [
       "{'whiskers': [<matplotlib.lines.Line2D at 0x16754ea30>,\n",
       "  <matplotlib.lines.Line2D at 0x167615df0>],\n",
       " 'caps': [<matplotlib.lines.Line2D at 0x167615d60>,\n",
       "  <matplotlib.lines.Line2D at 0x1676152e0>],\n",
       " 'boxes': [<matplotlib.lines.Line2D at 0x167545760>],\n",
       " 'medians': [<matplotlib.lines.Line2D at 0x167330460>],\n",
       " 'fliers': [<matplotlib.lines.Line2D at 0x167330070>],\n",
       " 'means': []}"
      ]
     },
     "execution_count": 164,
     "metadata": {},
     "output_type": "execute_result"
    },
    {
     "data": {
      "image/png": "[encoded data removed]",
      "text/plain": [
       "<Figure size 640x480 with 1 Axes>"
      ]
     },
     "metadata": {},
     "output_type": "display_data"
    }
   ],
   "source": [
    "plt.boxplot(df[\"Rating\"])"
   ]
  },
  {
   "cell_type": "code",
   "execution_count": 113,
   "metadata": {},
   "outputs": [
    {
     "data": {
      "text/plain": [
       "<Axes: xlabel='Time_Needed'>"
      ]
     },
     "execution_count": 113,
     "metadata": {},
     "output_type": "execute_result"
    },
    {
     "data": {
      "image/png": "[encoded data removed]",
      "text/plain": [
       "<Figure size 640x480 with 1 Axes>"
      ]
     },
     "metadata": {},
     "output_type": "display_data"
    }
   ],
   "source": [
    "# numerical data: time needed to visit in hours\n",
    "sns.boxplot(data=df, x=\"Time_Needed\")"
   ]
  },
  {
   "cell_type": "code",
   "execution_count": 79,
   "metadata": {},
   "outputs": [
    {
     "data": {
      "text/plain": [
       "<Axes: xlabel='Entrance_Fee'>"
      ]
     },
     "execution_count": 79,
     "metadata": {},
     "output_type": "execute_result"
    },
    {
     "data": {
      "image/png": "[encoded data removed]",
      "text/plain": [
       "<Figure size 640x480 with 1 Axes>"
      ]
     },
     "metadata": {},
     "output_type": "display_data"
    }
   ],
   "source": [
    "# Only plot where entrance fee isn't 0\n",
    "df2 = df[df[\"Entrance_Fee\"] != 0]\n",
    "sns.boxplot(data=df2, x=\"Entrance_Fee\")"
   ]
  },
  {
   "cell_type": "code",
   "execution_count": 166,
   "metadata": {},
   "outputs": [
    {
     "data": {
      "image/png": "[encoded data removed]",
      "text/plain": [
       "<Figure size 640x480 with 1 Axes>"
      ]
     },
     "metadata": {},
     "output_type": "display_data"
    }
   ],
   "source": [
    "# More zoomed in\n",
    "sns.boxplot(data=df2, x=\"Entrance_Fee\")\n",
    "# chat GPT wrote this line\n",
    "plt.xlim(0, 1000)  # Set the limits according to your preference\n",
    "plt.show()"
   ]
  },
  {
   "cell_type": "markdown",
   "metadata": {},
   "source": [
    "### Categorical Data"
   ]
  },
  {
   "cell_type": "code",
   "execution_count": 167,
   "metadata": {},
   "outputs": [
    {
     "data": {
      "text/plain": [
       "<Axes: xlabel='Significance', ylabel='Count'>"
      ]
     },
     "execution_count": 167,
     "metadata": {},
     "output_type": "execute_result"
    },
    {
     "data": {
      "image/png": "[encoded data removed]",
      "text/plain": [
       "<Figure size 800x500 with 1 Axes>"
      ]
     },
     "metadata": {},
     "output_type": "display_data"
    }
   ],
   "source": [
    "plt.figure(figsize=(8,5))\n",
    "sns.histplot(data=df, x=\"Significance\") "
   ]
  },
  {
   "cell_type": "code",
   "execution_count": 115,
   "metadata": {},
   "outputs": [
    {
     "data": {
      "text/plain": [
       "<Axes: xlabel='Best_Time', ylabel='Count'>"
      ]
     },
     "execution_count": 115,
     "metadata": {},
     "output_type": "execute_result"
    },
    {
     "data": {
      "image/png": "[encoded data removed]",
      "text/plain": [
       "<Figure size 800x500 with 1 Axes>"
      ]
     },
     "metadata": {},
     "output_type": "display_data"
    }
   ],
   "source": [
    "plt.figure(figsize=(8,5))\n",
    "sns.histplot(data=df, x=\"Best_Time\") "
   ]
  },
  {
   "cell_type": "code",
   "execution_count": 26,
   "metadata": {},
   "outputs": [
    {
     "data": {
      "text/plain": [
       "<Axes: xlabel='Airport_Nearby', ylabel='Count'>"
      ]
     },
     "execution_count": 26,
     "metadata": {},
     "output_type": "execute_result"
    },
    {
     "data": {
      "image/png": "[encoded data removed]",
      "text/plain": [
       "<Figure size 400x500 with 1 Axes>"
      ]
     },
     "metadata": {},
     "output_type": "display_data"
    }
   ],
   "source": [
    "plt.figure(figsize=(4,5))\n",
    "sns.histplot(data=df, x=\"Airport_Nearby\") "
   ]
  },
  {
   "cell_type": "code",
   "execution_count": 27,
   "metadata": {},
   "outputs": [
    {
     "data": {
      "text/plain": [
       "<Axes: xlabel='Camera', ylabel='Count'>"
      ]
     },
     "execution_count": 27,
     "metadata": {},
     "output_type": "execute_result"
    },
    {
     "data": {
      "image/png": "[encoded data removed]",
      "text/plain": [
       "<Figure size 400x500 with 1 Axes>"
      ]
     },
     "metadata": {},
     "output_type": "display_data"
    }
   ],
   "source": [
    "plt.figure(figsize=(4,5))\n",
    "sns.histplot(data=df, x=\"Camera\") "
   ]
  },
  {
   "cell_type": "markdown",
   "metadata": {},
   "source": [
    "# 5. Multivariate"
   ]
  },
  {
   "cell_type": "code",
   "execution_count": 176,
   "metadata": {},
   "outputs": [
    {
     "data": {
      "text/plain": [
       "<Axes: title={'center': 'Entrance fee vs. rating'}, xlabel='Entrance_Fee', ylabel='Rating'>"
      ]
     },
     "execution_count": 176,
     "metadata": {},
     "output_type": "execute_result"
    },
    {
     "data": {
      "image/png": "[encoded data removed]",
      "text/plain": [
       "<Figure size 640x480 with 1 Axes>"
      ]
     },
     "metadata": {},
     "output_type": "display_data"
    }
   ],
   "source": [
    "plt.title(\"Entrance fee vs. rating\")\n",
    "\n",
    "sns.scatterplot(data=df2, x=\"Entrance_Fee\", y=\"Rating\")"
   ]
  },
  {
   "cell_type": "code",
   "execution_count": 177,
   "metadata": {},
   "outputs": [
    {
     "data": {
      "text/plain": [
       "<Axes: title={'center': 'Time fee vs. rating'}, xlabel='Time_Needed', ylabel='Rating'>"
      ]
     },
     "execution_count": 177,
     "metadata": {},
     "output_type": "execute_result"
    },
    {
     "data": {
      "image/png": "[encoded data removed]",
      "text/plain": [
       "<Figure size 640x480 with 1 Axes>"
      ]
     },
     "metadata": {},
     "output_type": "display_data"
    }
   ],
   "source": [
    "plt.title(\"Time fee vs. rating\")\n",
    "\n",
    "sns.scatterplot(data=df2, x=\"Time_Needed\", y=\"Rating\")"
   ]
  },
  {
   "cell_type": "code",
   "execution_count": 29,
   "metadata": {},
   "outputs": [
    {
     "data": {
      "text/plain": [
       "<Axes: title={'center': 'Time needed vs. best time'}, xlabel='Best_Time', ylabel='Time_Needed'>"
      ]
     },
     "execution_count": 29,
     "metadata": {},
     "output_type": "execute_result"
    },
    {
     "data": {
      "image/png": "[encoded data removed]",
      "text/plain": [
       "<Figure size 640x480 with 1 Axes>"
      ]
     },
     "metadata": {},
     "output_type": "display_data"
    }
   ],
   "source": [
    "# Want to do best time to visit and time needed to visit\n",
    "plt.title(\"Time needed vs. best time\")\n",
    "\n",
    "sns.scatterplot(data=df, x=\"Best_Time\", y=\"Time_Needed\")"
   ]
  },
  {
   "cell_type": "markdown",
   "metadata": {},
   "source": [
    "## 6. Statistical Analysis"
   ]
  },
  {
   "cell_type": "code",
   "execution_count": null,
   "metadata": {},
   "outputs": [],
   "source": [
    "# Questions\n",
    "# 1) which state has the best rating to time needed ratio (basically looking at time value)\n",
    "# 2) What is the average rating for different kinds of attractions\n",
    "# 3) Which zone has the most historical attractions"
   ]
  },
  {
   "cell_type": "markdown",
   "metadata": {},
   "source": [
    "### Question 1: Which state has the best rating to time needed ratio? "
   ]
  },
  {
   "cell_type": "code",
   "execution_count": 169,
   "metadata": {},
   "outputs": [
    {
     "data": {
      "text/html": [
       "<div>\n",
       "<style scoped>\n",
       "    .dataframe tbody tr th:only-of-type {\n",
       "        vertical-align: middle;\n",
       "    }\n",
       "\n",
       "    .dataframe tbody tr th {\n",
       "        vertical-align: top;\n",
       "    }\n",
       "\n",
       "    .dataframe thead th {\n",
       "        text-align: right;\n",
       "    }\n",
       "</style>\n",
       "<table border=\"1\" class=\"dataframe\">\n",
       "  <thead>\n",
       "    <tr style=\"text-align: right;\">\n",
       "      <th></th>\n",
       "      <th>Zone</th>\n",
       "      <th>State</th>\n",
       "      <th>Name</th>\n",
       "      <th>Establishment_Year</th>\n",
       "      <th>Time_Needed</th>\n",
       "      <th>Rating</th>\n",
       "      <th>Entrance_Fee</th>\n",
       "      <th>Airport_Nearby</th>\n",
       "      <th>Significance</th>\n",
       "      <th>Camera</th>\n",
       "      <th>Best_Time</th>\n",
       "      <th>Time_Value</th>\n",
       "    </tr>\n",
       "  </thead>\n",
       "  <tbody>\n",
       "    <tr>\n",
       "      <th>0</th>\n",
       "      <td>Northern</td>\n",
       "      <td>Delhi</td>\n",
       "      <td>India Gate</td>\n",
       "      <td>1921</td>\n",
       "      <td>0.5</td>\n",
       "      <td>4.6</td>\n",
       "      <td>0</td>\n",
       "      <td>Yes</td>\n",
       "      <td>Historical</td>\n",
       "      <td>Yes</td>\n",
       "      <td>Evening</td>\n",
       "      <td>9.20</td>\n",
       "    </tr>\n",
       "    <tr>\n",
       "      <th>1</th>\n",
       "      <td>Northern</td>\n",
       "      <td>Delhi</td>\n",
       "      <td>Humayun's Tomb</td>\n",
       "      <td>1572</td>\n",
       "      <td>2.0</td>\n",
       "      <td>4.5</td>\n",
       "      <td>30</td>\n",
       "      <td>Yes</td>\n",
       "      <td>Historical</td>\n",
       "      <td>Yes</td>\n",
       "      <td>Afternoon</td>\n",
       "      <td>2.25</td>\n",
       "    </tr>\n",
       "    <tr>\n",
       "      <th>2</th>\n",
       "      <td>Northern</td>\n",
       "      <td>Delhi</td>\n",
       "      <td>Akshardham Temple</td>\n",
       "      <td>2005</td>\n",
       "      <td>5.0</td>\n",
       "      <td>4.6</td>\n",
       "      <td>60</td>\n",
       "      <td>Yes</td>\n",
       "      <td>Religious</td>\n",
       "      <td>No</td>\n",
       "      <td>Afternoon</td>\n",
       "      <td>0.92</td>\n",
       "    </tr>\n",
       "    <tr>\n",
       "      <th>3</th>\n",
       "      <td>Northern</td>\n",
       "      <td>Delhi</td>\n",
       "      <td>Waste to Wonder Park</td>\n",
       "      <td>2019</td>\n",
       "      <td>2.0</td>\n",
       "      <td>4.1</td>\n",
       "      <td>50</td>\n",
       "      <td>Yes</td>\n",
       "      <td>Nature</td>\n",
       "      <td>Yes</td>\n",
       "      <td>Evening</td>\n",
       "      <td>2.05</td>\n",
       "    </tr>\n",
       "    <tr>\n",
       "      <th>4</th>\n",
       "      <td>Northern</td>\n",
       "      <td>Delhi</td>\n",
       "      <td>Jantar Mantar</td>\n",
       "      <td>1724</td>\n",
       "      <td>2.0</td>\n",
       "      <td>4.2</td>\n",
       "      <td>15</td>\n",
       "      <td>Yes</td>\n",
       "      <td>Other</td>\n",
       "      <td>Yes</td>\n",
       "      <td>Morning</td>\n",
       "      <td>2.10</td>\n",
       "    </tr>\n",
       "  </tbody>\n",
       "</table>\n",
       "</div>"
      ],
      "text/plain": [
       "       Zone  State                  Name Establishment_Year  Time_Needed  \\\n",
       "0  Northern  Delhi            India Gate               1921          0.5   \n",
       "1  Northern  Delhi        Humayun's Tomb               1572          2.0   \n",
       "2  Northern  Delhi     Akshardham Temple               2005          5.0   \n",
       "3  Northern  Delhi  Waste to Wonder Park               2019          2.0   \n",
       "4  Northern  Delhi         Jantar Mantar               1724          2.0   \n",
       "\n",
       "   Rating  Entrance_Fee Airport_Nearby Significance Camera  Best_Time  \\\n",
       "0     4.6             0            Yes   Historical    Yes    Evening   \n",
       "1     4.5            30            Yes   Historical    Yes  Afternoon   \n",
       "2     4.6            60            Yes    Religious     No  Afternoon   \n",
       "3     4.1            50            Yes       Nature    Yes    Evening   \n",
       "4     4.2            15            Yes        Other    Yes    Morning   \n",
       "\n",
       "   Time_Value  \n",
       "0        9.20  \n",
       "1        2.25  \n",
       "2        0.92  \n",
       "3        2.05  \n",
       "4        2.10  "
      ]
     },
     "execution_count": 169,
     "metadata": {},
     "output_type": "execute_result"
    }
   ],
   "source": [
    "# Make new column called time value\n",
    "df[\"Time_Value\"] =  df['Rating'] / df['Time_Needed']\n",
    "df.head()"
   ]
  },
  {
   "cell_type": "code",
   "execution_count": 124,
   "metadata": {},
   "outputs": [
    {
     "data": {
      "text/html": [
       "<div>\n",
       "<style scoped>\n",
       "    .dataframe tbody tr th:only-of-type {\n",
       "        vertical-align: middle;\n",
       "    }\n",
       "\n",
       "    .dataframe tbody tr th {\n",
       "        vertical-align: top;\n",
       "    }\n",
       "\n",
       "    .dataframe thead th {\n",
       "        text-align: right;\n",
       "    }\n",
       "</style>\n",
       "<table border=\"1\" class=\"dataframe\">\n",
       "  <thead>\n",
       "    <tr style=\"text-align: right;\">\n",
       "      <th></th>\n",
       "      <th>Time_Value</th>\n",
       "    </tr>\n",
       "    <tr>\n",
       "      <th>State</th>\n",
       "      <th></th>\n",
       "    </tr>\n",
       "  </thead>\n",
       "  <tbody>\n",
       "    <tr>\n",
       "      <th>Jharkhand</th>\n",
       "      <td>4.650000</td>\n",
       "    </tr>\n",
       "    <tr>\n",
       "      <th>Andaman and Nicobar Islands</th>\n",
       "      <td>3.841667</td>\n",
       "    </tr>\n",
       "    <tr>\n",
       "      <th>Ladakh</th>\n",
       "      <td>3.826667</td>\n",
       "    </tr>\n",
       "    <tr>\n",
       "      <th>Daman and Diu</th>\n",
       "      <td>3.783333</td>\n",
       "    </tr>\n",
       "    <tr>\n",
       "      <th>West Bengal</th>\n",
       "      <td>3.780833</td>\n",
       "    </tr>\n",
       "    <tr>\n",
       "      <th>Puducherry</th>\n",
       "      <td>3.683333</td>\n",
       "    </tr>\n",
       "    <tr>\n",
       "      <th>Tamil Nadu</th>\n",
       "      <td>3.676923</td>\n",
       "    </tr>\n",
       "    <tr>\n",
       "      <th>Andhra Pradesh</th>\n",
       "      <td>3.661111</td>\n",
       "    </tr>\n",
       "    <tr>\n",
       "      <th>Sikkim</th>\n",
       "      <td>3.635714</td>\n",
       "    </tr>\n",
       "    <tr>\n",
       "      <th>Tripura</th>\n",
       "      <td>3.500000</td>\n",
       "    </tr>\n",
       "    <tr>\n",
       "      <th>Uttar Pradesh</th>\n",
       "      <td>3.499275</td>\n",
       "    </tr>\n",
       "    <tr>\n",
       "      <th>Bihar</th>\n",
       "      <td>3.488333</td>\n",
       "    </tr>\n",
       "    <tr>\n",
       "      <th>Odisha</th>\n",
       "      <td>3.466667</td>\n",
       "    </tr>\n",
       "    <tr>\n",
       "      <th>Karnataka</th>\n",
       "      <td>3.227632</td>\n",
       "    </tr>\n",
       "    <tr>\n",
       "      <th>Punjab</th>\n",
       "      <td>3.179167</td>\n",
       "    </tr>\n",
       "    <tr>\n",
       "      <th>Telangana</th>\n",
       "      <td>3.098485</td>\n",
       "    </tr>\n",
       "    <tr>\n",
       "      <th>Chhattisgarh</th>\n",
       "      <td>3.066667</td>\n",
       "    </tr>\n",
       "    <tr>\n",
       "      <th>Uttarakhand</th>\n",
       "      <td>3.054048</td>\n",
       "    </tr>\n",
       "    <tr>\n",
       "      <th>Delhi</th>\n",
       "      <td>3.024561</td>\n",
       "    </tr>\n",
       "    <tr>\n",
       "      <th>Madhya Pradesh</th>\n",
       "      <td>2.968889</td>\n",
       "    </tr>\n",
       "    <tr>\n",
       "      <th>Assam</th>\n",
       "      <td>2.897917</td>\n",
       "    </tr>\n",
       "    <tr>\n",
       "      <th>Rajasthan</th>\n",
       "      <td>2.881778</td>\n",
       "    </tr>\n",
       "    <tr>\n",
       "      <th>Maharastra</th>\n",
       "      <td>2.759917</td>\n",
       "    </tr>\n",
       "    <tr>\n",
       "      <th>Kerala</th>\n",
       "      <td>2.711648</td>\n",
       "    </tr>\n",
       "    <tr>\n",
       "      <th>Goa</th>\n",
       "      <td>2.709524</td>\n",
       "    </tr>\n",
       "    <tr>\n",
       "      <th>Himachal Pradesh</th>\n",
       "      <td>2.613704</td>\n",
       "    </tr>\n",
       "    <tr>\n",
       "      <th>Arunachal Pradesh</th>\n",
       "      <td>2.350000</td>\n",
       "    </tr>\n",
       "    <tr>\n",
       "      <th>Meghalaya</th>\n",
       "      <td>2.300000</td>\n",
       "    </tr>\n",
       "    <tr>\n",
       "      <th>Maharashtra</th>\n",
       "      <td>2.250000</td>\n",
       "    </tr>\n",
       "    <tr>\n",
       "      <th>Gujarat</th>\n",
       "      <td>2.141803</td>\n",
       "    </tr>\n",
       "    <tr>\n",
       "      <th>Haryana</th>\n",
       "      <td>2.038889</td>\n",
       "    </tr>\n",
       "    <tr>\n",
       "      <th>Jammu and Kashmir</th>\n",
       "      <td>1.628889</td>\n",
       "    </tr>\n",
       "    <tr>\n",
       "      <th>Nagaland</th>\n",
       "      <td>1.566667</td>\n",
       "    </tr>\n",
       "  </tbody>\n",
       "</table>\n",
       "</div>"
      ],
      "text/plain": [
       "                             Time_Value\n",
       "State                                  \n",
       "Jharkhand                      4.650000\n",
       "Andaman and Nicobar Islands    3.841667\n",
       "Ladakh                         3.826667\n",
       "Daman and Diu                  3.783333\n",
       "West Bengal                    3.780833\n",
       "Puducherry                     3.683333\n",
       "Tamil Nadu                     3.676923\n",
       "Andhra Pradesh                 3.661111\n",
       "Sikkim                         3.635714\n",
       "Tripura                        3.500000\n",
       "Uttar Pradesh                  3.499275\n",
       "Bihar                          3.488333\n",
       "Odisha                         3.466667\n",
       "Karnataka                      3.227632\n",
       "Punjab                         3.179167\n",
       "Telangana                      3.098485\n",
       "Chhattisgarh                   3.066667\n",
       "Uttarakhand                    3.054048\n",
       "Delhi                          3.024561\n",
       "Madhya Pradesh                 2.968889\n",
       "Assam                          2.897917\n",
       "Rajasthan                      2.881778\n",
       "Maharastra                     2.759917\n",
       "Kerala                         2.711648\n",
       "Goa                            2.709524\n",
       "Himachal Pradesh               2.613704\n",
       "Arunachal Pradesh              2.350000\n",
       "Meghalaya                      2.300000\n",
       "Maharashtra                    2.250000\n",
       "Gujarat                        2.141803\n",
       "Haryana                        2.038889\n",
       "Jammu and Kashmir              1.628889\n",
       "Nagaland                       1.566667"
      ]
     },
     "execution_count": 124,
     "metadata": {},
     "output_type": "execute_result"
    }
   ],
   "source": [
    "# Rank states in order of their time value\n",
    "df.groupby(\"State\")[[\"Time_Value\"]].mean().sort_values(by=\"Time_Value\", ascending=False)"
   ]
  },
  {
   "cell_type": "markdown",
   "metadata": {},
   "source": [
    "#### Conclusion: Jharkhand has the best time value for visiting "
   ]
  },
  {
   "cell_type": "markdown",
   "metadata": {},
   "source": [
    "### Question 2: Which zone are the most historical sites located? "
   ]
  },
  {
   "cell_type": "code",
   "execution_count": 170,
   "metadata": {},
   "outputs": [
    {
     "name": "stdout",
     "output_type": "stream",
     "text": [
      "The zone with the most historical sites is Southern with 24 historical sites.\n"
     ]
    }
   ],
   "source": [
    "historical_sites = df[df['Significance'] == 'Historical']\n",
    "\n",
    "# Count the occurrences of historical sites by zone\n",
    "# This line was writted by ChatGPT\n",
    "historical_per_zone = historical_sites['Zone'].value_counts()\n",
    "\n",
    "# This line was written by ChatGPT\n",
    "max_zone = historical_per_zone.idxmax()\n",
    "max_sites = historical_per_zone.max()\n",
    "\n",
    "print(f\"The zone with the most historical sites is {max_zone} with {max_sites} historical sites.\")"
   ]
  },
  {
   "cell_type": "code",
   "execution_count": 171,
   "metadata": {},
   "outputs": [
    {
     "data": {
      "image/png": "[encoded data removed]",
      "text/plain": [
       "<Figure size 700x400 with 1 Axes>"
      ]
     },
     "metadata": {},
     "output_type": "display_data"
    }
   ],
   "source": [
    "historical_zone = historical_sites['Zone'].value_counts()\n",
    "\n",
    "# Written by ChatGPT\n",
    "# Plot the horizontal bar plot\n",
    "plt.figure(figsize=(7, 4))\n",
    "historical_zone.plot(kind='barh', color='skyblue')\n",
    "plt.xlabel('Number of Historical Sites')\n",
    "plt.ylabel('Zone')\n",
    "plt.title('Number of Historical Sites in Each State')\n",
    "plt.grid(axis='x')\n",
    "plt.show()"
   ]
  },
  {
   "cell_type": "markdown",
   "metadata": {},
   "source": [
    "#### Conclusion: The southern zone has the most historical sits with 24 sites"
   ]
  },
  {
   "cell_type": "markdown",
   "metadata": {},
   "source": [
    "### Question Three: What is the average rating for different kinds of attractions? "
   ]
  },
  {
   "cell_type": "code",
   "execution_count": 172,
   "metadata": {},
   "outputs": [
    {
     "data": {
      "text/html": [
       "<div>\n",
       "<style scoped>\n",
       "    .dataframe tbody tr th:only-of-type {\n",
       "        vertical-align: middle;\n",
       "    }\n",
       "\n",
       "    .dataframe tbody tr th {\n",
       "        vertical-align: top;\n",
       "    }\n",
       "\n",
       "    .dataframe thead th {\n",
       "        text-align: right;\n",
       "    }\n",
       "</style>\n",
       "<table border=\"1\" class=\"dataframe\">\n",
       "  <thead>\n",
       "    <tr style=\"text-align: right;\">\n",
       "      <th></th>\n",
       "      <th>Rating</th>\n",
       "    </tr>\n",
       "    <tr>\n",
       "      <th>Significance</th>\n",
       "      <th></th>\n",
       "    </tr>\n",
       "  </thead>\n",
       "  <tbody>\n",
       "    <tr>\n",
       "      <th>Religious</th>\n",
       "      <td>4.649438</td>\n",
       "    </tr>\n",
       "    <tr>\n",
       "      <th>Historical</th>\n",
       "      <td>4.507229</td>\n",
       "    </tr>\n",
       "    <tr>\n",
       "      <th>Other</th>\n",
       "      <td>4.468182</td>\n",
       "    </tr>\n",
       "    <tr>\n",
       "      <th>Nature</th>\n",
       "      <td>4.409677</td>\n",
       "    </tr>\n",
       "    <tr>\n",
       "      <th>Recreational</th>\n",
       "      <td>4.255263</td>\n",
       "    </tr>\n",
       "  </tbody>\n",
       "</table>\n",
       "</div>"
      ],
      "text/plain": [
       "                Rating\n",
       "Significance          \n",
       "Religious     4.649438\n",
       "Historical    4.507229\n",
       "Other         4.468182\n",
       "Nature        4.409677\n",
       "Recreational  4.255263"
      ]
     },
     "execution_count": 172,
     "metadata": {},
     "output_type": "execute_result"
    }
   ],
   "source": [
    "df.groupby(\"Significance\")[[\"Rating\"]].mean().sort_values(by=\"Rating\", ascending=False)"
   ]
  },
  {
   "cell_type": "code",
   "execution_count": 173,
   "metadata": {},
   "outputs": [
    {
     "data": {
      "text/html": [
       "<div>\n",
       "<style scoped>\n",
       "    .dataframe tbody tr th:only-of-type {\n",
       "        vertical-align: middle;\n",
       "    }\n",
       "\n",
       "    .dataframe tbody tr th {\n",
       "        vertical-align: top;\n",
       "    }\n",
       "\n",
       "    .dataframe thead th {\n",
       "        text-align: right;\n",
       "    }\n",
       "</style>\n",
       "<table border=\"1\" class=\"dataframe\">\n",
       "  <thead>\n",
       "    <tr style=\"text-align: right;\">\n",
       "      <th></th>\n",
       "      <th>Zone</th>\n",
       "      <th>State</th>\n",
       "      <th>Name</th>\n",
       "      <th>Establishment_Year</th>\n",
       "      <th>Time_Needed</th>\n",
       "      <th>Rating</th>\n",
       "      <th>Entrance_Fee</th>\n",
       "      <th>Airport_Nearby</th>\n",
       "      <th>Significance</th>\n",
       "      <th>Camera</th>\n",
       "      <th>Best_Time</th>\n",
       "      <th>Time_Value</th>\n",
       "      <th>Avg_Rating</th>\n",
       "    </tr>\n",
       "  </thead>\n",
       "  <tbody>\n",
       "    <tr>\n",
       "      <th>0</th>\n",
       "      <td>Northern</td>\n",
       "      <td>Delhi</td>\n",
       "      <td>India Gate</td>\n",
       "      <td>1921</td>\n",
       "      <td>0.5</td>\n",
       "      <td>4.6</td>\n",
       "      <td>0</td>\n",
       "      <td>Yes</td>\n",
       "      <td>Historical</td>\n",
       "      <td>Yes</td>\n",
       "      <td>Evening</td>\n",
       "      <td>9.20</td>\n",
       "      <td>4.507229</td>\n",
       "    </tr>\n",
       "    <tr>\n",
       "      <th>1</th>\n",
       "      <td>Northern</td>\n",
       "      <td>Delhi</td>\n",
       "      <td>Humayun's Tomb</td>\n",
       "      <td>1572</td>\n",
       "      <td>2.0</td>\n",
       "      <td>4.5</td>\n",
       "      <td>30</td>\n",
       "      <td>Yes</td>\n",
       "      <td>Historical</td>\n",
       "      <td>Yes</td>\n",
       "      <td>Afternoon</td>\n",
       "      <td>2.25</td>\n",
       "      <td>4.507229</td>\n",
       "    </tr>\n",
       "    <tr>\n",
       "      <th>2</th>\n",
       "      <td>Northern</td>\n",
       "      <td>Delhi</td>\n",
       "      <td>Akshardham Temple</td>\n",
       "      <td>2005</td>\n",
       "      <td>5.0</td>\n",
       "      <td>4.6</td>\n",
       "      <td>60</td>\n",
       "      <td>Yes</td>\n",
       "      <td>Religious</td>\n",
       "      <td>No</td>\n",
       "      <td>Afternoon</td>\n",
       "      <td>0.92</td>\n",
       "      <td>4.649438</td>\n",
       "    </tr>\n",
       "    <tr>\n",
       "      <th>3</th>\n",
       "      <td>Northern</td>\n",
       "      <td>Delhi</td>\n",
       "      <td>Waste to Wonder Park</td>\n",
       "      <td>2019</td>\n",
       "      <td>2.0</td>\n",
       "      <td>4.1</td>\n",
       "      <td>50</td>\n",
       "      <td>Yes</td>\n",
       "      <td>Nature</td>\n",
       "      <td>Yes</td>\n",
       "      <td>Evening</td>\n",
       "      <td>2.05</td>\n",
       "      <td>4.409677</td>\n",
       "    </tr>\n",
       "    <tr>\n",
       "      <th>4</th>\n",
       "      <td>Northern</td>\n",
       "      <td>Delhi</td>\n",
       "      <td>Jantar Mantar</td>\n",
       "      <td>1724</td>\n",
       "      <td>2.0</td>\n",
       "      <td>4.2</td>\n",
       "      <td>15</td>\n",
       "      <td>Yes</td>\n",
       "      <td>Other</td>\n",
       "      <td>Yes</td>\n",
       "      <td>Morning</td>\n",
       "      <td>2.10</td>\n",
       "      <td>4.468182</td>\n",
       "    </tr>\n",
       "    <tr>\n",
       "      <th>5</th>\n",
       "      <td>Northern</td>\n",
       "      <td>Delhi</td>\n",
       "      <td>Chandni Chowk</td>\n",
       "      <td>1700</td>\n",
       "      <td>3.0</td>\n",
       "      <td>4.2</td>\n",
       "      <td>0</td>\n",
       "      <td>Yes</td>\n",
       "      <td>Other</td>\n",
       "      <td>Yes</td>\n",
       "      <td>Afternoon</td>\n",
       "      <td>1.40</td>\n",
       "      <td>4.468182</td>\n",
       "    </tr>\n",
       "    <tr>\n",
       "      <th>6</th>\n",
       "      <td>Northern</td>\n",
       "      <td>Delhi</td>\n",
       "      <td>Lotus Temple</td>\n",
       "      <td>1986</td>\n",
       "      <td>1.0</td>\n",
       "      <td>4.5</td>\n",
       "      <td>0</td>\n",
       "      <td>Yes</td>\n",
       "      <td>Religious</td>\n",
       "      <td>Yes</td>\n",
       "      <td>Evening</td>\n",
       "      <td>4.50</td>\n",
       "      <td>4.649438</td>\n",
       "    </tr>\n",
       "    <tr>\n",
       "      <th>7</th>\n",
       "      <td>Northern</td>\n",
       "      <td>Delhi</td>\n",
       "      <td>Red Fort</td>\n",
       "      <td>1648</td>\n",
       "      <td>2.0</td>\n",
       "      <td>4.5</td>\n",
       "      <td>35</td>\n",
       "      <td>Yes</td>\n",
       "      <td>Historical</td>\n",
       "      <td>Yes</td>\n",
       "      <td>Afternoon</td>\n",
       "      <td>2.25</td>\n",
       "      <td>4.507229</td>\n",
       "    </tr>\n",
       "    <tr>\n",
       "      <th>8</th>\n",
       "      <td>Northern</td>\n",
       "      <td>Delhi</td>\n",
       "      <td>Agrasen ki Baoli</td>\n",
       "      <td>1400</td>\n",
       "      <td>1.0</td>\n",
       "      <td>4.2</td>\n",
       "      <td>0</td>\n",
       "      <td>Yes</td>\n",
       "      <td>Historical</td>\n",
       "      <td>Yes</td>\n",
       "      <td>Afternoon</td>\n",
       "      <td>4.20</td>\n",
       "      <td>4.507229</td>\n",
       "    </tr>\n",
       "    <tr>\n",
       "      <th>9</th>\n",
       "      <td>Northern</td>\n",
       "      <td>Delhi</td>\n",
       "      <td>Sunder Nursery</td>\n",
       "      <td>1600</td>\n",
       "      <td>2.0</td>\n",
       "      <td>4.6</td>\n",
       "      <td>0</td>\n",
       "      <td>Yes</td>\n",
       "      <td>Nature</td>\n",
       "      <td>Yes</td>\n",
       "      <td>Afternoon</td>\n",
       "      <td>2.30</td>\n",
       "      <td>4.409677</td>\n",
       "    </tr>\n",
       "  </tbody>\n",
       "</table>\n",
       "</div>"
      ],
      "text/plain": [
       "       Zone  State                  Name Establishment_Year  Time_Needed  \\\n",
       "0  Northern  Delhi            India Gate               1921          0.5   \n",
       "1  Northern  Delhi        Humayun's Tomb               1572          2.0   \n",
       "2  Northern  Delhi     Akshardham Temple               2005          5.0   \n",
       "3  Northern  Delhi  Waste to Wonder Park               2019          2.0   \n",
       "4  Northern  Delhi         Jantar Mantar               1724          2.0   \n",
       "5  Northern  Delhi         Chandni Chowk               1700          3.0   \n",
       "6  Northern  Delhi          Lotus Temple               1986          1.0   \n",
       "7  Northern  Delhi              Red Fort               1648          2.0   \n",
       "8  Northern  Delhi      Agrasen ki Baoli               1400          1.0   \n",
       "9  Northern  Delhi        Sunder Nursery               1600          2.0   \n",
       "\n",
       "   Rating  Entrance_Fee Airport_Nearby Significance Camera  Best_Time  \\\n",
       "0     4.6             0            Yes   Historical    Yes    Evening   \n",
       "1     4.5            30            Yes   Historical    Yes  Afternoon   \n",
       "2     4.6            60            Yes    Religious     No  Afternoon   \n",
       "3     4.1            50            Yes       Nature    Yes    Evening   \n",
       "4     4.2            15            Yes        Other    Yes    Morning   \n",
       "5     4.2             0            Yes        Other    Yes  Afternoon   \n",
       "6     4.5             0            Yes    Religious    Yes    Evening   \n",
       "7     4.5            35            Yes   Historical    Yes  Afternoon   \n",
       "8     4.2             0            Yes   Historical    Yes  Afternoon   \n",
       "9     4.6             0            Yes       Nature    Yes  Afternoon   \n",
       "\n",
       "   Time_Value  Avg_Rating  \n",
       "0        9.20    4.507229  \n",
       "1        2.25    4.507229  \n",
       "2        0.92    4.649438  \n",
       "3        2.05    4.409677  \n",
       "4        2.10    4.468182  \n",
       "5        1.40    4.468182  \n",
       "6        4.50    4.649438  \n",
       "7        2.25    4.507229  \n",
       "8        4.20    4.507229  \n",
       "9        2.30    4.409677  "
      ]
     },
     "execution_count": 173,
     "metadata": {},
     "output_type": "execute_result"
    }
   ],
   "source": [
    "# Make a new column called average rating and assign to all with that significance\n",
    "df['Avg_Rating'] = df.groupby('Significance')['Rating'].transform('mean')\n",
    "df.head(10)\n"
   ]
  },
  {
   "cell_type": "code",
   "execution_count": 138,
   "metadata": {},
   "outputs": [
    {
     "data": {
      "text/plain": [
       "<Axes: title={'center': 'Significance vs. Rating'}, xlabel='Significance', ylabel='Avg_Rating'>"
      ]
     },
     "execution_count": 138,
     "metadata": {},
     "output_type": "execute_result"
    },
    {
     "data": {
      "image/png": "[encoded data removed]",
      "text/plain": [
       "<Figure size 640x480 with 1 Axes>"
      ]
     },
     "metadata": {},
     "output_type": "display_data"
    }
   ],
   "source": [
    "plt.title(\"Significance vs. Rating\")\n",
    "sns.scatterplot(data=df, x=\"Significance\", y=\"Avg_Rating\")"
   ]
  },
  {
   "cell_type": "code",
   "execution_count": 175,
   "metadata": {},
   "outputs": [
    {
     "data": {
      "image/png": "[encoded data removed]",
      "text/plain": [
       "<Figure size 700x400 with 1 Axes>"
      ]
     },
     "metadata": {},
     "output_type": "display_data"
    }
   ],
   "source": [
    "# Written by ChatGPT\n",
    "significance_avg_rating = df.groupby('Significance')['Avg_Rating'].mean()\n",
    "\n",
    "# Plot the bar graph\n",
    "plt.figure(figsize=(7, 4))\n",
    "significance_avg_rating.plot(kind='bar', color='skyblue')\n",
    "plt.xlabel('Significance')\n",
    "plt.ylabel('Average Rating')\n",
    "plt.title('Average Rating by Significance')\n",
    "# Rotate x-axis labels for better readability\n",
    "plt.xticks(rotation=45)  \n",
    "plt.grid(axis='y')\n",
    "plt.show()"
   ]
  },
  {
   "cell_type": "markdown",
   "metadata": {},
   "source": [
    "#### Conclusion: Religious sites had the highest average rating with an average rating of around 4.65, closely followed by historical sites, with an average rating of 4.5"
   ]
  },
  {
   "cell_type": "markdown",
   "metadata": {},
   "source": [
    "## 8. Future steps with the dataset"
   ]
  },
  {
   "cell_type": "markdown",
   "metadata": {},
   "source": [
    "### What further uses could you see with this data? \n",
    "#### This data could be helpful for planning a vacation. It could use special interests (ie food or historical) to pick attractions that are suitable. Additionally, traveling to a foreign country can be quite difficult when you are not accustomed to their norms so it is helpful to know things like can you bring a camera or is it close to an airport"
   ]
  },
  {
   "cell_type": "markdown",
   "metadata": {},
   "source": [
    "### Would it be worth training a machine learning model on it? \n",
    "\n",
    "#### Yes, I think it could be worth training a machine learning model on this data. Some ways it could be helpful are: \n",
    "#### 1. Recommendations for visitors: if a visitor states their preferences (cost, state) then certain attractions could be recommended\n",
    "#### 2. It could make predictions about the future of tourism by analyzing certain aspects of a site and the rating left on the site. It could determine what kind of attractions would be popular in the future"
   ]
  }
 ],
 "metadata": {
  "kernelspec": {
   "display_name": ".venv",
   "language": "python",
   "name": "python3"
  },
  "language_info": {
   "codemirror_mode": {
    "name": "ipython",
    "version": 3
   },
   "file_extension": ".py",
   "mimetype": "text/x-python",
   "name": "python",
   "nbconvert_exporter": "python",
   "pygments_lexer": "ipython3",
   "version": "3.9.6"
  },
  "orig_nbformat": 4
 },
 "nbformat": 4,
 "nbformat_minor": 2
}
